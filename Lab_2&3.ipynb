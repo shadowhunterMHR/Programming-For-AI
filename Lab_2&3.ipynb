{
  "nbformat": 4,
  "nbformat_minor": 0,
  "metadata": {
    "colab": {
      "provenance": [],
      "authorship_tag": "ABX9TyO4rXv3YBe/KLq4kTuF8MUk",
      "include_colab_link": true
    },
    "kernelspec": {
      "name": "python3",
      "display_name": "Python 3"
    },
    "language_info": {
      "name": "python"
    }
  },
  "cells": [
    {
      "cell_type": "markdown",
      "metadata": {
        "id": "view-in-github",
        "colab_type": "text"
      },
      "source": [
        "<a href=\"https://colab.research.google.com/github/shadowhunterMHR/Programming-For-AI/blob/main/Lab_2%263.ipynb\" target=\"_parent\"><img src=\"https://colab.research.google.com/assets/colab-badge.svg\" alt=\"Open In Colab\"/></a>"
      ]
    },
    {
      "cell_type": "markdown",
      "source": [
        "# **LAB 2 & 3**\n"
      ],
      "metadata": {
        "id": "TzYzKHSx92E1"
      }
    },
    {
      "cell_type": "markdown",
      "source": [
        "##  **Task 1:**\n",
        "### Print at least 3 types of data type.\n",
        "\n",
        "## Answer"
      ],
      "metadata": {
        "id": "Rd1pyC7i-_37"
      }
    },
    {
      "cell_type": "markdown",
      "source": [
        "### **Int**"
      ],
      "metadata": {
        "id": "JD36TdHeACsP"
      }
    },
    {
      "cell_type": "code",
      "source": [
        "ai = int(26)\n",
        "bi = int(34)\n",
        "ci = int(20)\n",
        "di = int(50)\n",
        "ei = int(40)"
      ],
      "metadata": {
        "id": "Lpsh8spM_Jig"
      },
      "execution_count": null,
      "outputs": []
    },
    {
      "cell_type": "markdown",
      "source": [
        "### Float"
      ],
      "metadata": {
        "id": "hgsnbZKB_46j"
      }
    },
    {
      "cell_type": "code",
      "source": [
        "af = float(20.9)\n",
        "bf = float(30.8)\n",
        "cf = float(25.4)\n",
        "df = float(19.1)\n",
        "ef = float(30.7)"
      ],
      "metadata": {
        "id": "GEAhST-g_-wi"
      },
      "execution_count": null,
      "outputs": []
    },
    {
      "cell_type": "markdown",
      "source": [
        "### Complex"
      ],
      "metadata": {
        "id": "k6EJnoRqAeKP"
      }
    },
    {
      "cell_type": "code",
      "source": [
        "ac = 2 + 12j\n",
        "bc = 3 + 23j\n",
        "cc = 6 + 34j\n",
        "dc = 4 + 45j\n",
        "ec = 8 + 67j"
      ],
      "metadata": {
        "id": "KPr0YAKuAihm"
      },
      "execution_count": null,
      "outputs": []
    },
    {
      "cell_type": "markdown",
      "source": [
        "##  **Task 2:**\n",
        "### Write example of type conversion for each.\n",
        "\n",
        "## Answer"
      ],
      "metadata": {
        "id": "0Lw_OqgUA8Ga"
      }
    },
    {
      "cell_type": "code",
      "source": [
        "# integer Datatypes\n",
        "ai = int(26)\n",
        "bi = int(34)\n",
        "ci = int(20)\n",
        "di = int(50)\n",
        "ei = int(40)\n",
        "\n",
        "# Float Datatypes\n",
        "af = float(20.9)\n",
        "bf = float(30.8)\n",
        "cf = float(25.4)\n",
        "df = float(19.1)\n",
        "ef = float(30.7)\n",
        "\n",
        "#Complex Datatypes\n",
        "ac = 2 + 12j\n",
        "bc = 3 + 23j\n",
        "cc = 6 + 34j\n",
        "dc = 4 + 45j\n",
        "ec = 8 + 67j\n",
        "\n",
        "# Int to Float\n",
        "print (\"Integer Datatypes: \")\n",
        "print (type(ai))\n",
        "print (type(bi))\n",
        "print (type(ci))\n",
        "print (type(di))\n",
        "print (type(ei))\n",
        "\n",
        "print (\"\\nInteger to Float: \")\n",
        "print (type(float(ai)))\n",
        "print (type(float(bi)))\n",
        "print (type(float(ci)))\n",
        "print (type(float(di)))\n",
        "print (type(float(ei)))\n",
        "\n",
        "# Float to int\n",
        "print (\"\\nFloat Datatypes: \")\n",
        "print (type(af))\n",
        "print (type(bf))\n",
        "print (type(cf))\n",
        "print (type(df))\n",
        "print (type(ef))\n",
        "\n",
        "print (\"\\nFloat to Int: \")\n",
        "print (type(int(af)))\n",
        "print (type(int(bf)))\n",
        "print (type(int(cf)))\n",
        "print (type(int(df)))\n",
        "print (type(int(ef)))\n"
      ],
      "metadata": {
        "colab": {
          "base_uri": "https://localhost:8080/"
        },
        "id": "V8Jt03snBFiF",
        "outputId": "0c0f2d79-d829-41d6-f99b-54c326a88a8e"
      },
      "execution_count": null,
      "outputs": [
        {
          "output_type": "stream",
          "name": "stdout",
          "text": [
            "Integer Datatypes: \n",
            "<class 'int'>\n",
            "<class 'int'>\n",
            "<class 'int'>\n",
            "<class 'int'>\n",
            "<class 'int'>\n",
            "\n",
            "Integer to Float: \n",
            "<class 'float'>\n",
            "<class 'float'>\n",
            "<class 'float'>\n",
            "<class 'float'>\n",
            "<class 'float'>\n",
            "\n",
            "Float Datatypes: \n",
            "<class 'float'>\n",
            "<class 'float'>\n",
            "<class 'float'>\n",
            "<class 'float'>\n",
            "<class 'float'>\n",
            "\n",
            "Float to Int: \n",
            "<class 'int'>\n",
            "<class 'int'>\n",
            "<class 'int'>\n",
            "<class 'int'>\n",
            "<class 'int'>\n"
          ]
        }
      ]
    },
    {
      "cell_type": "markdown",
      "source": [
        "##  **Task 3:**\n",
        "### Assign multiple strings to single variable with your name , registration number, program , semester etc.\n",
        "\n",
        "## Answer"
      ],
      "metadata": {
        "id": "QXU17pYkFeex"
      }
    },
    {
      "cell_type": "code",
      "source": [
        "student_info = {\n",
        "    \"name\": \"Muhammad Hamza Rashid\",\n",
        "    \"registration_number\": \"B22F0280AI075\",\n",
        "    \"program\": \"BS Artificial Intelligence\",\n",
        "    \"semester\": \"Semester 4\"\n",
        "}\n",
        "\n",
        "# Accessing individual pieces of information\n",
        "print(\"Name:\", student_info[\"name\"])\n",
        "print(\"Registration Number:\", student_info[\"registration_number\"])\n",
        "print(\"Program:\", student_info[\"program\"])\n",
        "print(\"Semester:\", student_info[\"semester\"])\n"
      ],
      "metadata": {
        "colab": {
          "base_uri": "https://localhost:8080/"
        },
        "id": "M_DKmApiF0kj",
        "outputId": "fadfc18c-6fe2-4508-fed8-3a7c52523c94"
      },
      "execution_count": null,
      "outputs": [
        {
          "output_type": "stream",
          "name": "stdout",
          "text": [
            "Name: Muhammad Hamza Rashid\n",
            "Registration Number: B22F0280AI075\n",
            "Program: BS Artificial Intelligence\n",
            "Semester: Semester 4\n"
          ]
        }
      ]
    },
    {
      "cell_type": "markdown",
      "source": [
        "##  **Task 4:**\n",
        "### Write Your country name and access the last 3 characters\n",
        "\n",
        "## Answer"
      ],
      "metadata": {
        "id": "Ui3Z2RKcHPfi"
      }
    },
    {
      "cell_type": "code",
      "source": [
        "MHR = \"Pakistan\"\n",
        "\n",
        "print(MHR[5:8])"
      ],
      "metadata": {
        "colab": {
          "base_uri": "https://localhost:8080/"
        },
        "id": "AvmjeD1GHg3s",
        "outputId": "f5a94605-76c3-4d57-bccd-1b0258f79d4c"
      },
      "execution_count": null,
      "outputs": [
        {
          "output_type": "stream",
          "name": "stdout",
          "text": [
            "tan\n"
          ]
        }
      ]
    },
    {
      "cell_type": "markdown",
      "source": [
        "##  **Task 5:**\n",
        "### Write code and observe using len() function it count space or not.\n",
        "\n",
        "## Answer"
      ],
      "metadata": {
        "id": "lf2FLxcDH6Ei"
      }
    },
    {
      "cell_type": "code",
      "source": [
        "MHR = \"Muhammad Hamza Rashid\"\n",
        "print(len(MHR))\n",
        "\n",
        "# yes it counts Spaces as well"
      ],
      "metadata": {
        "colab": {
          "base_uri": "https://localhost:8080/"
        },
        "id": "OEMhD35IILQP",
        "outputId": "b2b26a5e-e54d-4494-fef4-2e5363917480"
      },
      "execution_count": null,
      "outputs": [
        {
          "output_type": "stream",
          "name": "stdout",
          "text": [
            "20\n"
          ]
        }
      ]
    },
    {
      "cell_type": "markdown",
      "source": [
        "##  **Task 6:**\n",
        "### Write code to access the 2nd and 3rd character of your name using negative indexes.\n",
        "\n",
        "## Answer"
      ],
      "metadata": {
        "id": "IHFxret7Iopk"
      }
    },
    {
      "cell_type": "code",
      "source": [
        "MHr = \"Muhammad Hamza Rashid\"\n",
        "second_char = MHR[-19]\n",
        "third_char = MHR[-18]\n",
        "\n",
        "print(\"2nd character:\", second_char)\n",
        "print(\"3rd character:\", third_char)\n"
      ],
      "metadata": {
        "id": "oQUGfpLfI3cM"
      },
      "execution_count": null,
      "outputs": []
    },
    {
      "cell_type": "markdown",
      "source": [
        "##  **Task 7:**\n",
        "### Write python code in which you pass index number to format() function and arguments must be 4 and same code without indexes.\n",
        "\n",
        "## Answer"
      ],
      "metadata": {
        "id": "hlA3oSh2J9ez"
      }
    },
    {
      "cell_type": "code",
      "source": [
        "age = 20\n",
        "p_age = \"Hamza age is {}\"\n",
        "print(p_age.format(age),p_age[3:9])\n",
        "\n",
        "age = 21\n",
        "p_age = \"Momin age is {}\"\n",
        "print(p_age.format(age),p_age[3:9])\n",
        "\n",
        "age = 20\n",
        "p_age = \"Qasim age is {}\"\n",
        "print(p_age.format(age),p_age[3:9])\n",
        "\n",
        "age = 19\n",
        "p_age = \"Taimoor age is {}\"\n",
        "print(p_age.format(age),p_age[3:9])\n",
        "\n"
      ],
      "metadata": {
        "colab": {
          "base_uri": "https://localhost:8080/"
        },
        "id": "TC4256Z_J9Kw",
        "outputId": "0af4bd3a-380d-4c0c-a339-124334869a54"
      },
      "execution_count": null,
      "outputs": [
        {
          "output_type": "stream",
          "name": "stdout",
          "text": [
            "Hamza age is 20 za age\n",
            "Momin age is 21 in age\n",
            "Qasim age is 20 im age\n",
            "Taimoor age is 19 moor a\n"
          ]
        }
      ]
    },
    {
      "cell_type": "markdown",
      "source": [
        "##  **Task 8:**\n",
        "### Take input from user and  than display it like “John age is: age”.\n",
        "\n",
        "## Answer"
      ],
      "metadata": {
        "id": "pEYXzQUkJQYU"
      }
    },
    {
      "cell_type": "code",
      "source": [
        "# Take input from the user for name and age\n",
        "name = input(\"Enter your name: \")\n",
        "age = input(\"Enter your age: \")\n",
        "\n",
        "# Display the input in the desired format\n",
        "print(\"{}'s age is: {}\".format(name, age))\n",
        "\n"
      ],
      "metadata": {
        "colab": {
          "base_uri": "https://localhost:8080/"
        },
        "id": "mEkDAZKKJkGN",
        "outputId": "494246ce-6532-4997-d25e-c87211723d50"
      },
      "execution_count": null,
      "outputs": [
        {
          "output_type": "stream",
          "name": "stdout",
          "text": [
            "Enter your name: Muhammad Hamza Rashid\n",
            "Enter your age: 29\n",
            "Muhammad Hamza Rashid's age is: 29\n"
          ]
        }
      ]
    },
    {
      "cell_type": "markdown",
      "source": [],
      "metadata": {
        "id": "OIJh7npXJwVh"
      }
    }
  ]
}