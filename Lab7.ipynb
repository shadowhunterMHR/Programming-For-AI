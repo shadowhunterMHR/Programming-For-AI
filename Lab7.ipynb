{
  "nbformat": 4,
  "nbformat_minor": 0,
  "metadata": {
    "colab": {
      "provenance": [],
      "authorship_tag": "ABX9TyOe04PMgLXQv7LqpSBcliHY",
      "include_colab_link": true
    },
    "kernelspec": {
      "name": "python3",
      "display_name": "Python 3"
    },
    "language_info": {
      "name": "python"
    }
  },
  "cells": [
    {
      "cell_type": "markdown",
      "metadata": {
        "id": "view-in-github",
        "colab_type": "text"
      },
      "source": [
        "<a href=\"https://colab.research.google.com/github/shadowhunterMHR/Programming-For-AI/blob/main/Lab7.ipynb\" target=\"_parent\"><img src=\"https://colab.research.google.com/assets/colab-badge.svg\" alt=\"Open In Colab\"/></a>"
      ]
    },
    {
      "cell_type": "code",
      "execution_count": null,
      "metadata": {
        "colab": {
          "base_uri": "https://localhost:8080/"
        },
        "id": "TjKUZsVOBUlG",
        "outputId": "3f2dffed-f3b8-47ab-f81a-0fb2550f6c32"
      },
      "outputs": [
        {
          "output_type": "stream",
          "name": "stdout",
          "text": [
            "Smaller\n",
            "Finis\n"
          ]
        }
      ],
      "source": [
        "x = 5\n",
        "\n",
        "if x < 10:\n",
        "  print('Smaller')\n",
        "\n",
        "if x > 20:\n",
        "  print('Bigger')\n",
        "\n",
        "print('Finis')"
      ]
    },
    {
      "cell_type": "code",
      "source": [
        "x = 10\n",
        "\n",
        "if x < 5:\n",
        "  print('Smaller')\n",
        "if x > 15:\n",
        "  print('Bigger')\n",
        "if x == 10:\n",
        "  print('Medium')\n",
        "\n",
        "print(\"Finish\")\n"
      ],
      "metadata": {
        "colab": {
          "base_uri": "https://localhost:8080/"
        },
        "id": "AKJ3gWoyC7ks",
        "outputId": "3b0f0345-bb58-4f92-d5c1-c8ffba964a72"
      },
      "execution_count": null,
      "outputs": [
        {
          "output_type": "stream",
          "name": "stdout",
          "text": [
            "Medium\n",
            "Finish\n"
          ]
        }
      ]
    },
    {
      "cell_type": "code",
      "source": [
        "x = 5\n",
        "if x == 5 :\n",
        "  print('Equals 5')\n",
        "if x > 4 :\n",
        "  print('Greater than 4')\n",
        "if x >= 5 :\n",
        "  print('Greater than or Equals 5')\n",
        "if x < 6 :\n",
        "  print('Less than 6')\n",
        "if x <= 5 :\n",
        "  print('Less than or Equals 5')\n",
        "if x != 6 :\n",
        "  print('Not equal 6')\n",
        "\n",
        "print(\"Finish\")"
      ],
      "metadata": {
        "colab": {
          "base_uri": "https://localhost:8080/"
        },
        "id": "h0c2dcjtB8l3",
        "outputId": "4e1d9ab5-4403-449d-b07c-eebaf25c620c"
      },
      "execution_count": null,
      "outputs": [
        {
          "output_type": "stream",
          "name": "stdout",
          "text": [
            "Equals 5\n",
            "Greater than 4\n",
            "Greater than or Equals 5\n",
            "Less than 6\n",
            "Less than or Equals 5\n",
            "Not equal 6\n",
            "Finish\n"
          ]
        }
      ]
    },
    {
      "cell_type": "code",
      "source": [
        "x = 42\n",
        "if x > 1:\n",
        "    print('More than one')\n",
        "    if x < 100:\n",
        "      print('Less than 100')\n",
        "      if x > 40:\n",
        "        print('Greater than 40')\n",
        "        if x == 42:\n",
        "          print('Equal to 42')\n",
        "print('All done')\n"
      ],
      "metadata": {
        "colab": {
          "base_uri": "https://localhost:8080/"
        },
        "id": "3GI4F8MTLqy3",
        "outputId": "4e27b963-d1c0-4d90-e538-99244e4c4305"
      },
      "execution_count": null,
      "outputs": [
        {
          "output_type": "stream",
          "name": "stdout",
          "text": [
            "More than one\n",
            "Less than 100\n",
            "Greater than 40\n",
            "Equal to 42\n",
            "All done\n"
          ]
        }
      ]
    }
  ]
}