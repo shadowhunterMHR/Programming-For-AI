{
  "nbformat": 4,
  "nbformat_minor": 0,
  "metadata": {
    "colab": {
      "provenance": [],
      "authorship_tag": "ABX9TyPGBYUMEAFzFGYEG0E8vMFw",
      "include_colab_link": true
    },
    "kernelspec": {
      "name": "python3",
      "display_name": "Python 3"
    },
    "language_info": {
      "name": "python"
    }
  },
  "cells": [
    {
      "cell_type": "markdown",
      "metadata": {
        "id": "view-in-github",
        "colab_type": "text"
      },
      "source": [
        "<a href=\"https://colab.research.google.com/github/shadowhunterMHR/Programming-For-AI/blob/main/Lab_1_AI.ipynb\" target=\"_parent\"><img src=\"https://colab.research.google.com/assets/colab-badge.svg\" alt=\"Open In Colab\"/></a>"
      ]
    },
    {
      "cell_type": "markdown",
      "source": [
        "# **Introduction to Variables in Python**"
      ],
      "metadata": {
        "id": "QU6mdwYSmhGG"
      }
    },
    {
      "cell_type": "markdown",
      "source": [
        "##  **Task 1:**\n",
        "### Differentiate between assignment operator and equality operator.\n",
        "\n",
        "## Answer:\n",
        "•\tThe assignment operator (=) is used to assign a value to a variable. For example, x = 5 assigns the value 5 to the variable x.\n",
        "\n",
        "•\tThe equality operator (==) is used to compare two values. It returns True if the values are equal, and False otherwise. For example, x == 5 checks if the value of x is equal to 5.\n",
        "\n"
      ],
      "metadata": {
        "id": "7juFIS30nIBX"
      }
    },
    {
      "cell_type": "markdown",
      "source": [
        "## **TASK 2:**\n",
        "### Explore all kinds data types of variables. And  write code for each datatype.\n",
        "*   Integer Variable\n",
        "*   Floating-point Variable\n",
        "*   String Varibale\n",
        "*   Boolean Variable\n",
        "\n",
        "## Answer:"
      ],
      "metadata": {
        "id": "FLlormsG8-F9"
      }
    },
    {
      "cell_type": "code",
      "execution_count": null,
      "metadata": {
        "colab": {
          "base_uri": "https://localhost:8080/"
        },
        "id": "lP_ARyYB4Fy9",
        "outputId": "12107a4e-157d-4b9b-d148-4d4324231c41"
      },
      "outputs": [
        {
          "output_type": "stream",
          "name": "stdout",
          "text": [
            "10\n",
            "3.14\n",
            "Muhammad Hamza Rashid\n",
            "True\n"
          ]
        }
      ],
      "source": [
        "# Integer variable\n",
        "int_var = 10\n",
        "\n",
        "# Floating-point variable\n",
        "float_var = 3.14\n",
        "\n",
        "# String variable\n",
        "str_var = \"Muhammad Hamza Rashid\"\n",
        "\n",
        "# Boolean variable\n",
        "bool_var = True\n",
        "\n",
        "\n",
        "print(int_var)\n",
        "print(float_var)\n",
        "print(str_var)\n",
        "print(bool_var)"
      ]
    },
    {
      "cell_type": "markdown",
      "source": [
        "## **TASK 3:**\n",
        "### Explain the rules for variables name and use different variables name including special characters, numbers etc.\n",
        "\n",
        "## Answer:\n",
        "* Variable names must start with a letter (a-z, A-Z) or an underscore (_).\n",
        "* The rest of the variable name can consist of letters, numbers, or underscores.\n",
        "* Variable names are case-sensitive.\n",
        "* Variable names cannot be Python keywords.\n"
      ],
      "metadata": {
        "id": "1yXYKXFH9g_V"
      }
    },
    {
      "cell_type": "code",
      "source": [
        "my_variable = 42\n",
        "_var_2 = \"hello\"\n",
        "var3 = True\n",
        "\n",
        "print(my_variable)\n",
        "print(_var_2)\n",
        "print(var3)"
      ],
      "metadata": {
        "colab": {
          "base_uri": "https://localhost:8080/"
        },
        "id": "1QFCGCi1_zh1",
        "outputId": "55370f2c-e434-41ed-fa74-ae57a0f3dcfb"
      },
      "execution_count": null,
      "outputs": [
        {
          "output_type": "stream",
          "name": "stdout",
          "text": [
            "42\n",
            "hello\n",
            "True\n"
          ]
        }
      ]
    },
    {
      "cell_type": "markdown",
      "source": [
        "## **TASK 4:**\n",
        "### Declare and initialize multiple variables in a single line. Single variable with multiple values, multiple variables with single values. Each having at least two examples.\n",
        "\n",
        "## Answer:"
      ],
      "metadata": {
        "id": "AX_B2KmG_2MR"
      }
    },
    {
      "cell_type": "code",
      "source": [
        "# Single variable with multiple values\n",
        "x = 1, 2, 3\n",
        "\n",
        "# Multiple variables with single values\n",
        "a = b = 10\n",
        "\n",
        "print(x)\n",
        "print(a, b)\n",
        "\n"
      ],
      "metadata": {
        "colab": {
          "base_uri": "https://localhost:8080/"
        },
        "id": "ZWlUamas_9iM",
        "outputId": "8b995722-83e6-4b42-f9e1-812a9b2cfdb2"
      },
      "execution_count": null,
      "outputs": [
        {
          "output_type": "stream",
          "name": "stdout",
          "text": [
            "(1, 2, 3)\n",
            "10 10\n"
          ]
        }
      ]
    },
    {
      "cell_type": "markdown",
      "source": [
        "## **TASK 5:**\n",
        "### Perform arithmetic operations on integers and floating-point numbers.\n",
        "*   Adding, Subtracting, Multiplication and dividing two integer variables.\n",
        "*   Adding, Subtracting, Multiplication and dividing floating-point variables\n",
        "\n",
        "## Answer:"
      ],
      "metadata": {
        "id": "6cZp9QhJApiT"
      }
    },
    {
      "cell_type": "code",
      "source": [
        "# Integers\n",
        "int_val_1 = 10\n",
        "int_val_2 = 5\n",
        "add = int_val_1 + int_val_2\n",
        "sub = int_val_1 - int_val_2\n",
        "multiply = int_val_1 * int_val_2\n",
        "division = int_val_1 / int_val_2\n",
        "\n",
        "print(\"Integer Operations\\nAddition: \", add, \"\\nSubtraction: \", sub, \"\\nMutilplication: \", multiply, \"\\nDivision: \", division)\n",
        "\n",
        "\n",
        "# Floats\n",
        "fl_val_1 = 3.5\n",
        "fl_val_2 = 1.5\n",
        "add = fl_val_1 + fl_val_2\n",
        "sub = fl_val_1 - fl_val_2\n",
        "multiply = fl_val_1 * fl_val_2\n",
        "division = fl_val_1 / fl_val_2\n",
        "\n",
        "print(\"\\n\\nFloat Operations\\nAddition: \", add, \"\\nSubtraction: \", sub, \"\\nMutilplication: \", multiply, \"\\nDivision: \", division)"
      ],
      "metadata": {
        "colab": {
          "base_uri": "https://localhost:8080/"
        },
        "id": "3kfM-327Mn8r",
        "outputId": "b2d2bc7a-851a-4e47-9bff-efec2d381fc8"
      },
      "execution_count": null,
      "outputs": [
        {
          "output_type": "stream",
          "name": "stdout",
          "text": [
            "Integer Operations\n",
            "Addition:  15 \n",
            "Subtraction:  5 \n",
            "Mutilplication:  50 \n",
            "Division:  2.0\n",
            "\n",
            "\n",
            "Float Operations\n",
            "Addition:  5.0 \n",
            "Subtraction:  2.0 \n",
            "Mutilplication:  5.25 \n",
            "Division:  2.3333333333333335\n"
          ]
        }
      ]
    },
    {
      "cell_type": "markdown",
      "source": [
        "## **TASK 6:**\n",
        "### A string literal is a sequence of characters enclosed in quotes. In Python, we can use either single quotes (‘…’) or double quotes (“…”) to create a string.   \n",
        "*   Using single quotes\n",
        "*   Using double quotes\n",
        "*   Using double quotes when the string contains a single quote\n",
        "*   Using single quotes when the string contains double quotes\n",
        "\n",
        "\n",
        "## Answer:"
      ],
      "metadata": {
        "id": "inygVy0IMpLg"
      }
    },
    {
      "cell_type": "code",
      "source": [
        "# Using single quotes\n",
        "single_quoted = 'Muhammad Hamza Rashid'\n",
        "\n",
        "# Using double quotes\n",
        "double_quoted = \"B22F0280AI075\"\n",
        "\n",
        "# Using double quotes when the string contains a single quote\n",
        "double_with_single = \"I'm using Colaboratory\"\n",
        "\n",
        "# Using single quotes when the string contains double quotes\n",
        "single_with_double = 'He said, \"Hello\"'\n",
        "\n",
        "print(single_quoted + \"\\n\" + double_quoted + \"\\n\" + double_with_single + \"\\n\" + single_with_double)"
      ],
      "metadata": {
        "colab": {
          "base_uri": "https://localhost:8080/"
        },
        "id": "ndBMwSJIMtyT",
        "outputId": "2b6e8ef8-ac39-438b-ea8c-0d9f25cbdd54"
      },
      "execution_count": null,
      "outputs": [
        {
          "output_type": "stream",
          "name": "stdout",
          "text": [
            "Muhammad Hamza Rashid\n",
            "B22F0280AI075\n",
            "I'm using Colaboratory\n",
            "He said, \"Hello\"\n"
          ]
        }
      ]
    },
    {
      "cell_type": "markdown",
      "source": [
        "## **TASK 7:**\n",
        "### The print() function is a built-in function in Python that allows you to output variables and other data to the console.\n",
        "*   Example of using the print() function to output a variable\n",
        "*   Example of outputting multiple variables with print()\n",
        "*   Example of using f-strings to format output\n",
        "*   Example of using f-strings to manipulate variables in output\n",
        "\n",
        "## Answer:\n",
        "\n",
        "\n",
        "\n",
        "\n"
      ],
      "metadata": {
        "id": "mubxiZANO-0m"
      }
    },
    {
      "cell_type": "code",
      "source": [
        "# Example of using the print() function to output a variable\n",
        "x = 10\n",
        "print(x)\n",
        "\n",
        "# Example of outputting multiple variables with print()\n",
        "y = 20\n",
        "print(x, y)\n",
        "\n",
        "# Example of using f-strings to format output\n",
        "name = \"Muhammad Hamza Rashid\"\n",
        "age = 20\n",
        "print(f\"My name is {name} and I am {age} years old.\")\n",
        "\n",
        "# Example of using f-strings to manipulate variables in output\n",
        "num1 = 10\n",
        "num2 = 20\n",
        "print(f\"The sum of {num1} and {num2} is {num1 + num2}.\")\n"
      ],
      "metadata": {
        "colab": {
          "base_uri": "https://localhost:8080/"
        },
        "id": "UG2jVcgyPD8K",
        "outputId": "679876a2-5b5f-487a-bec9-b62910910790"
      },
      "execution_count": null,
      "outputs": [
        {
          "output_type": "stream",
          "name": "stdout",
          "text": [
            "10\n",
            "10 20\n",
            "My name is Muhammad Hamza Rashid and I am 20 years old.\n",
            "The sum of 10 and 20 is 30.\n"
          ]
        }
      ]
    }
  ]
}