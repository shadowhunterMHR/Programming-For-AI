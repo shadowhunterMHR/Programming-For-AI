{
  "nbformat": 4,
  "nbformat_minor": 0,
  "metadata": {
    "colab": {
      "provenance": [],
      "authorship_tag": "ABX9TyNP0NzcRLakbFvoR1rwANXj",
      "include_colab_link": true
    },
    "kernelspec": {
      "name": "python3",
      "display_name": "Python 3"
    },
    "language_info": {
      "name": "python"
    }
  },
  "cells": [
    {
      "cell_type": "markdown",
      "metadata": {
        "id": "view-in-github",
        "colab_type": "text"
      },
      "source": [
        "<a href=\"https://colab.research.google.com/github/shadowhunterMHR/Programming-For-AI/blob/main/Lab4%265.ipynb\" target=\"_parent\"><img src=\"https://colab.research.google.com/assets/colab-badge.svg\" alt=\"Open In Colab\"/></a>"
      ]
    },
    {
      "cell_type": "markdown",
      "source": [
        "# Lab Tasks:"
      ],
      "metadata": {
        "id": "GmgucZgE02s8"
      }
    },
    {
      "cell_type": "markdown",
      "source": [
        "## 1.\tAccess List Items:\n",
        "*   Create a list of fruits.\n",
        "*   Print the first and last items of the list.\n",
        "\n",
        "\n",
        "\n",
        "\n",
        "\n"
      ],
      "metadata": {
        "id": "YbtzM1FLz4tC"
      }
    },
    {
      "cell_type": "code",
      "source": [
        "fruits = [\"apple\", \"banana\", \"watermelon\", \"date\"]\n",
        "print(\"First item:\", fruits[0])\n",
        "print(\"Last item:\", fruits[-1])\n"
      ],
      "metadata": {
        "colab": {
          "base_uri": "https://localhost:8080/"
        },
        "id": "P3RfMG1F0xUB",
        "outputId": "feaf16fe-2a29-43f7-dc6c-a9924df9ae0e"
      },
      "execution_count": 15,
      "outputs": [
        {
          "output_type": "stream",
          "name": "stdout",
          "text": [
            "First item: apple\n",
            "Last item: date\n"
          ]
        }
      ]
    },
    {
      "cell_type": "markdown",
      "source": [
        "## 2.\tChange List Items:\n",
        "*   Create a list of colors.\n",
        "*   Change the second item in the list to \"blue\".\n"
      ],
      "metadata": {
        "id": "Y3hi3W7j1NE9"
      }
    },
    {
      "cell_type": "code",
      "source": [
        "colors = [\"red\", \"green\", \"yellow\", \"orange\"]\n",
        "colors[1] = \"blue\"\n",
        "print(colors)\n"
      ],
      "metadata": {
        "colab": {
          "base_uri": "https://localhost:8080/"
        },
        "id": "4w6zsqxs1Wpk",
        "outputId": "6db852c4-1d33-4bae-e497-812c38e4e3d1"
      },
      "execution_count": 16,
      "outputs": [
        {
          "output_type": "stream",
          "name": "stdout",
          "text": [
            "['red', 'blue', 'yellow', 'orange']\n"
          ]
        }
      ]
    },
    {
      "cell_type": "markdown",
      "source": [
        "## 3.\tAdd List Items:\n",
        "*   Create a list of numbers.\n",
        "*   Add the number 10 at the end of the list.\n"
      ],
      "metadata": {
        "id": "8Ou6hBCF1dXZ"
      }
    },
    {
      "cell_type": "code",
      "source": [
        "numbers = [1, 2, 3, 4, 5]\n",
        "numbers.append(10)\n",
        "print(numbers)"
      ],
      "metadata": {
        "id": "92ztVMwv1qR7"
      },
      "execution_count": null,
      "outputs": []
    },
    {
      "cell_type": "markdown",
      "source": [
        "## 4.\tRemove List Items:\n",
        "*   Create a list of animals.\n",
        "*   Remove the third item from the list."
      ],
      "metadata": {
        "id": "eI9cLrsY13au"
      }
    },
    {
      "cell_type": "code",
      "source": [
        "animals = [\"lion\", \"tiger\", \"panther\", \"horse\"]\n",
        "del animals[2]\n",
        "print(animals)"
      ],
      "metadata": {
        "colab": {
          "base_uri": "https://localhost:8080/"
        },
        "id": "WkuJTtz-2RZv",
        "outputId": "11b6f618-d3bf-4dad-f78f-0ec6b2fa0956"
      },
      "execution_count": 17,
      "outputs": [
        {
          "output_type": "stream",
          "name": "stdout",
          "text": [
            "['lion', 'tiger', 'horse']\n"
          ]
        }
      ]
    },
    {
      "cell_type": "markdown",
      "source": [
        "## 5.\tLoop Lists:\n",
        "*   Create a list of cities\n",
        "*   Loop through the list and print each city"
      ],
      "metadata": {
        "id": "oXhyAKep2WaN"
      }
    },
    {
      "cell_type": "code",
      "source": [
        "cities = [\"Zurich\", \"Geneva\", \"Berlin\", \"Tokyo\"]\n",
        "for city in cities:\n",
        "    print(city)\n"
      ],
      "metadata": {
        "colab": {
          "base_uri": "https://localhost:8080/"
        },
        "id": "UEzkm1mi2iHN",
        "outputId": "ebeea51b-5519-42d1-d666-a119fc0c26be"
      },
      "execution_count": 18,
      "outputs": [
        {
          "output_type": "stream",
          "name": "stdout",
          "text": [
            "Zurich\n",
            "Geneva\n",
            "Berlin\n",
            "Tokyo\n"
          ]
        }
      ]
    },
    {
      "cell_type": "markdown",
      "source": [
        "## 6.\tList Comprehension:\n",
        "*   Create a list of numbers from 1 to 10.\n",
        "*   Use list comprehension to create a new list containing the square of each number"
      ],
      "metadata": {
        "id": "Gj7-zdhV2oam"
      }
    },
    {
      "cell_type": "code",
      "source": [
        "numbers = [i for i in range(1, 11)]\n",
        "squares = [x**2 for x in numbers]\n",
        "print(squares)\n"
      ],
      "metadata": {
        "colab": {
          "base_uri": "https://localhost:8080/"
        },
        "id": "WXjSEVz721vJ",
        "outputId": "6f27e5e2-9fcf-473f-ea1c-05f0dcf6d676"
      },
      "execution_count": 6,
      "outputs": [
        {
          "output_type": "stream",
          "name": "stdout",
          "text": [
            "[1, 4, 9, 16, 25, 36, 49, 64, 81, 100]\n"
          ]
        }
      ]
    },
    {
      "cell_type": "markdown",
      "source": [
        "## 7.\tSort Lists:\n",
        "\n",
        "*   Create a list of names\n",
        "*   Sort the list alphabetically"
      ],
      "metadata": {
        "id": "nFIOnEjX2893"
      }
    },
    {
      "cell_type": "code",
      "source": [
        "names = [\"Hamza\", \"Qasim\", \"Momin\", \"Moiz\"]\n",
        "names.sort()\n",
        "print(names)\n"
      ],
      "metadata": {
        "colab": {
          "base_uri": "https://localhost:8080/"
        },
        "id": "KsnqldUh3GUb",
        "outputId": "6fa65af5-985f-477f-dc73-ec8e7d4ffb75"
      },
      "execution_count": 19,
      "outputs": [
        {
          "output_type": "stream",
          "name": "stdout",
          "text": [
            "['Hamza', 'Moiz', 'Momin', 'Qasim']\n"
          ]
        }
      ]
    },
    {
      "cell_type": "markdown",
      "source": [
        "##  8.\tCopy Lists:\n",
        "\n",
        "\n",
        "*   Create a list of fruits\n",
        "*   Copy the list into a new list"
      ],
      "metadata": {
        "id": "rCkYkXp73KXR"
      }
    },
    {
      "cell_type": "code",
      "source": [
        "fruits = [\"apple\", \"banana\", \"watermelon\", \"date\"]\n",
        "fruits_copy = fruits.copy()\n",
        "print(fruits_copy)\n"
      ],
      "metadata": {
        "colab": {
          "base_uri": "https://localhost:8080/"
        },
        "id": "u18jEB2h3S0v",
        "outputId": "cb0c1501-bb0d-424a-e88c-e41d57e3d1de"
      },
      "execution_count": 20,
      "outputs": [
        {
          "output_type": "stream",
          "name": "stdout",
          "text": [
            "['apple', 'banana', 'watermelon', 'date']\n"
          ]
        }
      ]
    },
    {
      "cell_type": "markdown",
      "source": [
        "## 9.\tJoin Lists:\n",
        "*   Create two lists of numbers\n",
        "*   Join the two lists into a single list"
      ],
      "metadata": {
        "id": "wzlDqS6p3Xuk"
      }
    },
    {
      "cell_type": "code",
      "source": [
        "list1 = [1, 2, 3]\n",
        "list2 = [4, 5, 6]\n",
        "joined_list = list1 + list2\n",
        "print(joined_list)\n"
      ],
      "metadata": {
        "colab": {
          "base_uri": "https://localhost:8080/"
        },
        "id": "r8s9Qmwd3hSe",
        "outputId": "74031fd6-31b8-4a5b-cdfb-88c97523d92e"
      },
      "execution_count": 9,
      "outputs": [
        {
          "output_type": "stream",
          "name": "stdout",
          "text": [
            "[1, 2, 3, 4, 5, 6]\n"
          ]
        }
      ]
    },
    {
      "cell_type": "markdown",
      "source": [
        "## 10.\tList Methods:\n",
        "*   Create a list of fruits.\n",
        "*   Use the append() method to add a new fruit to the list\n",
        "*   Use the pop() method to remove the last fruit from the list"
      ],
      "metadata": {
        "id": "ZXB_8g4x3m3C"
      }
    },
    {
      "cell_type": "code",
      "source": [
        "fruits = [\"apple\", \"banana\", \"watermelon\", \"date\"]\n",
        "fruits.append(\"grape\")\n",
        "print(fruits)\n",
        "fruits.pop()\n",
        "print(fruits)\n"
      ],
      "metadata": {
        "colab": {
          "base_uri": "https://localhost:8080/"
        },
        "id": "ZVFiVZEr4ABQ",
        "outputId": "cbb41ace-32cb-4335-8f57-f897b09eff16"
      },
      "execution_count": 24,
      "outputs": [
        {
          "output_type": "stream",
          "name": "stdout",
          "text": [
            "['apple', 'banana', 'watermelon', 'date', 'grape']\n",
            "['apple', 'banana', 'watermelon', 'date']\n"
          ]
        }
      ]
    },
    {
      "cell_type": "markdown",
      "source": [
        "## 11.\tCombining Lists and List Comprehension:\n",
        "*   Create two lists, one containing numbers from 1 to 5 and another containing numbers from 6 to 10\n",
        "*   Use list comprehension to create a new list that contains the sum of corresponding elements from the two lists"
      ],
      "metadata": {
        "id": "_NwZ2Uao4DdD"
      }
    },
    {
      "cell_type": "code",
      "source": [
        "list1 = [1, 2, 3, 4, 5]\n",
        "list2 = [6, 7, 8, 9, 10]\n",
        "sum_list = [x + y for x, y in zip(list1, list2)]\n",
        "print(sum_list)\n"
      ],
      "metadata": {
        "colab": {
          "base_uri": "https://localhost:8080/"
        },
        "id": "K5Z10O254R4S",
        "outputId": "d14ecc05-b59b-4ccd-9485-21762944fcbf"
      },
      "execution_count": 22,
      "outputs": [
        {
          "output_type": "stream",
          "name": "stdout",
          "text": [
            "[7, 9, 11, 13, 15]\n"
          ]
        }
      ]
    },
    {
      "cell_type": "markdown",
      "source": [
        "## 12.\tFiltering and Sorting:\n",
        "*   Create a list of numbers\n",
        "*   Use list comprehension to create a new list containing only the even numbers from the original list\n",
        "*   Sort the new list in descending order"
      ],
      "metadata": {
        "id": "shz13sxB4U65"
      }
    },
    {
      "cell_type": "code",
      "source": [
        "numbers = [23, 14, 56, 78, 33, 47, 90]\n",
        "even_numbers = [num for num in numbers if num % 2 == 0]\n",
        "even_numbers.sort(reverse=True)\n",
        "print(even_numbers)\n"
      ],
      "metadata": {
        "colab": {
          "base_uri": "https://localhost:8080/"
        },
        "id": "0rTuy69L4kn4",
        "outputId": "11f21bda-bf7a-4fa6-894a-b45862040015"
      },
      "execution_count": 12,
      "outputs": [
        {
          "output_type": "stream",
          "name": "stdout",
          "text": [
            "[90, 78, 56, 14]\n"
          ]
        }
      ]
    },
    {
      "cell_type": "markdown",
      "source": [
        "## 13.\tList Slicing and Reversing:\n",
        "\n",
        "\n",
        "*   Create a list of numbers from 1 to 10\n",
        "*   Use list slicing to create a new list containing only the even numbers from the original list, in reverse order"
      ],
      "metadata": {
        "id": "1XKgxqVl4nOw"
      }
    },
    {
      "cell_type": "code",
      "source": [
        "numbers = list(range(1, 11))\n",
        "even_numbers_reverse = numbers[::-2]\n",
        "print(even_numbers_reverse)\n"
      ],
      "metadata": {
        "colab": {
          "base_uri": "https://localhost:8080/"
        },
        "id": "H4n1t6jR4yWG",
        "outputId": "ea525d15-8240-472a-ba11-c6a6a6430e14"
      },
      "execution_count": 13,
      "outputs": [
        {
          "output_type": "stream",
          "name": "stdout",
          "text": [
            "[10, 8, 6, 4, 2]\n"
          ]
        }
      ]
    },
    {
      "cell_type": "markdown",
      "source": [
        "## 14.\tCombining Lists and List Methods:\n",
        "\n",
        "\n",
        "*   Create two lists, one containing even numbers and another containing odd numbers\n",
        "*   Use list methods to combine the two lists into a single list, alternating between even and odd numbers"
      ],
      "metadata": {
        "id": "F5t1B8w141C4"
      }
    },
    {
      "cell_type": "code",
      "source": [
        "even_numbers = [2, 4, 6, 8, 10]\n",
        "odd_numbers = [1, 3, 5, 7, 9]\n",
        "combined_list = []\n",
        "for even, odd in zip(even_numbers, odd_numbers):\n",
        "    combined_list.append(even)\n",
        "    combined_list.append(odd)\n",
        "print(combined_list)\n"
      ],
      "metadata": {
        "colab": {
          "base_uri": "https://localhost:8080/"
        },
        "id": "iTV9hftx48dk",
        "outputId": "1bdf30e0-354a-4a22-f62c-88becfff0252"
      },
      "execution_count": 14,
      "outputs": [
        {
          "output_type": "stream",
          "name": "stdout",
          "text": [
            "[2, 1, 4, 3, 6, 5, 8, 7, 10, 9]\n"
          ]
        }
      ]
    }
  ]
}