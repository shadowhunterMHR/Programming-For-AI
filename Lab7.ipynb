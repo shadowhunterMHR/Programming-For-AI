{
  "nbformat": 4,
  "nbformat_minor": 0,
  "metadata": {
    "colab": {
      "provenance": [],
      "authorship_tag": "ABX9TyOWff944JvbS3ockyFC/lmn",
      "include_colab_link": true
    },
    "kernelspec": {
      "name": "python3",
      "display_name": "Python 3"
    },
    "language_info": {
      "name": "python"
    }
  },
  "cells": [
    {
      "cell_type": "markdown",
      "metadata": {
        "id": "view-in-github",
        "colab_type": "text"
      },
      "source": [
        "<a href=\"https://colab.research.google.com/github/shadowhunterMHR/Programming-For-AI/blob/main/Lab7.ipynb\" target=\"_parent\"><img src=\"https://colab.research.google.com/assets/colab-badge.svg\" alt=\"Open In Colab\"/></a>"
      ]
    },
    {
      "cell_type": "markdown",
      "source": [
        "# **Lab 7**"
      ],
      "metadata": {
        "id": "ObtePHwoQDyk"
      }
    },
    {
      "cell_type": "code",
      "execution_count": null,
      "metadata": {
        "colab": {
          "base_uri": "https://localhost:8080/"
        },
        "id": "TjKUZsVOBUlG",
        "outputId": "3f2dffed-f3b8-47ab-f81a-0fb2550f6c32"
      },
      "outputs": [
        {
          "output_type": "stream",
          "name": "stdout",
          "text": [
            "Smaller\n",
            "Finis\n"
          ]
        }
      ],
      "source": [
        "x = 5\n",
        "\n",
        "if x < 10:\n",
        "  print('Smaller')\n",
        "\n",
        "if x > 20:\n",
        "  print('Bigger')\n",
        "\n",
        "print('Finis')"
      ]
    },
    {
      "cell_type": "code",
      "source": [
        "x = 10\n",
        "\n",
        "if x < 5:\n",
        "  print('Smaller')\n",
        "if x > 15:\n",
        "  print('Bigger')\n",
        "if x == 10:\n",
        "  print('Medium')\n",
        "\n",
        "print(\"Finish\")\n"
      ],
      "metadata": {
        "colab": {
          "base_uri": "https://localhost:8080/"
        },
        "id": "AKJ3gWoyC7ks",
        "outputId": "3b0f0345-bb58-4f92-d5c1-c8ffba964a72"
      },
      "execution_count": null,
      "outputs": [
        {
          "output_type": "stream",
          "name": "stdout",
          "text": [
            "Medium\n",
            "Finish\n"
          ]
        }
      ]
    },
    {
      "cell_type": "markdown",
      "source": [
        "## Task 1\n",
        "Write a code that checks different conditions related to variable x and in the end prints finish."
      ],
      "metadata": {
        "id": "TKP6V8rFQhOc"
      }
    },
    {
      "cell_type": "code",
      "source": [
        "x = 5\n",
        "if x == 5 :\n",
        "  print('Equals 5')\n",
        "if x > 4 :\n",
        "  print('Greater than 4')\n",
        "if x >= 5 :\n",
        "  print('Greater than or Equals 5')\n",
        "if x < 6 :\n",
        "  print('Less than 6')\n",
        "if x <= 5 :\n",
        "  print('Less than or Equals 5')\n",
        "if x != 6 :\n",
        "  print('Not equal 6')\n",
        "\n",
        "print(\"Finish\")"
      ],
      "metadata": {
        "colab": {
          "base_uri": "https://localhost:8080/"
        },
        "id": "h0c2dcjtB8l3",
        "outputId": "4e1d9ab5-4403-449d-b07c-eebaf25c620c"
      },
      "execution_count": null,
      "outputs": [
        {
          "output_type": "stream",
          "name": "stdout",
          "text": [
            "Equals 5\n",
            "Greater than 4\n",
            "Greater than or Equals 5\n",
            "Less than 6\n",
            "Less than or Equals 5\n",
            "Not equal 6\n",
            "Finish\n"
          ]
        }
      ]
    },
    {
      "cell_type": "markdown",
      "source": [
        "## Task 2\n",
        "Write a code that uses nested if statements for comparison of values of x."
      ],
      "metadata": {
        "id": "kscAEJ4YQ9iD"
      }
    },
    {
      "cell_type": "code",
      "source": [
        "x = 43\n",
        "if x > 1:\n",
        "    print('More than one')\n",
        "    if x < 100:\n",
        "      print('Less than 100')\n",
        "      if x > 40:\n",
        "        print('Greater than 40')\n",
        "        if x == 42:\n",
        "          print('Equal to 42')\n",
        "print('All done')\n"
      ],
      "metadata": {
        "colab": {
          "base_uri": "https://localhost:8080/"
        },
        "id": "3GI4F8MTLqy3",
        "outputId": "8c77620c-0888-424b-c595-f3f6db860d99"
      },
      "execution_count": 3,
      "outputs": [
        {
          "output_type": "stream",
          "name": "stdout",
          "text": [
            "More than one\n",
            "Less than 100\n",
            "Greater than 40\n",
            "All done\n"
          ]
        }
      ]
    },
    {
      "cell_type": "markdown",
      "source": [
        "## Task 3\n",
        "Write a simple if else statement for comparison of values of x."
      ],
      "metadata": {
        "id": "MblJom2kRNTD"
      }
    },
    {
      "cell_type": "code",
      "source": [
        "x = 50\n",
        "if (x < 50):\n",
        "  print('x is less than 50')\n",
        "else:\n",
        "  print('Equal to or greater than 50')\n"
      ],
      "metadata": {
        "colab": {
          "base_uri": "https://localhost:8080/"
        },
        "id": "9GL4Rb7GRV0l",
        "outputId": "d4ba5f52-2698-417a-dbe3-ac5e530db20d"
      },
      "execution_count": 2,
      "outputs": [
        {
          "output_type": "stream",
          "name": "stdout",
          "text": [
            "Equal to or greater than 50\n"
          ]
        }
      ]
    },
    {
      "cell_type": "markdown",
      "source": [
        "## Task 3\n",
        "now use multiple if statements"
      ],
      "metadata": {
        "id": "lw5XNK98RkHr"
      }
    },
    {
      "cell_type": "code",
      "source": [
        "x = 90\n",
        "\n",
        "if (x < 50):\n",
        "  print('Greater than 50')\n",
        "elif (x > 100):\n",
        "  print('Less than 100')\n",
        "else:\n",
        "  print('Value of x is in between 50 and 100')"
      ],
      "metadata": {
        "colab": {
          "base_uri": "https://localhost:8080/"
        },
        "id": "9tG3QAYbRpMw",
        "outputId": "05a03217-c53f-4ae3-98ba-95308cbfb944"
      },
      "execution_count": 1,
      "outputs": [
        {
          "output_type": "stream",
          "name": "stdout",
          "text": [
            "Value of x is in between 50 and 100\n"
          ]
        }
      ]
    }
  ]
}